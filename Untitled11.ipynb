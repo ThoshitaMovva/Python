{
  "nbformat": 4,
  "nbformat_minor": 0,
  "metadata": {
    "colab": {
      "name": "Untitled11.ipynb",
      "version": "0.3.2",
      "provenance": [],
      "include_colab_link": true
    },
    "kernelspec": {
      "name": "python3",
      "display_name": "Python 3"
    }
  },
  "cells": [
    {
      "cell_type": "markdown",
      "metadata": {
        "id": "view-in-github",
        "colab_type": "text"
      },
      "source": [
        "<a href=\"https://colab.research.google.com/github/ThoshitaMovva/Python/blob/master/Untitled11.ipynb\" target=\"_parent\"><img src=\"https://colab.research.google.com/assets/colab-badge.svg\" alt=\"Open In Colab\"/></a>"
      ]
    },
    {
      "cell_type": "code",
      "metadata": {
        "id": "3sNSEAeJOsuD",
        "colab_type": "code",
        "colab": {
          "base_uri": "https://localhost:8080/",
          "height": 1000
        },
        "outputId": "df84a179-4ada-477b-e8b2-d240a2a0af96"
      },
      "source": [
        "from keras import Sequential\n",
        "from keras.datasets import mnist\n",
        "import numpy as np\n",
        "import matplotlib.pyplot as plt\n",
        "from keras.layers import Dense\n",
        "from keras.utils import to_categorical\n",
        "from keras.models import load_model\n",
        "\n",
        "(train_images,train_labels),(test_images, test_labels) = mnist.load_data()\n",
        "#display the first image in the training data\n",
        "#plt.imshow(train_images[0,:,:],cmap='gray')\n",
        "#plt.title('Ground Truth : {}'.format(train_labels[0]))\n",
        "# plt.show()\n",
        "\n",
        "#process the data\n",
        "#1. convert each image of shape 28*28 to 784 dimensional which will be fed to the network as a single feature\n",
        "dimData = np.prod(train_images.shape[1:])\n",
        "train_data = train_images.reshape(train_images.shape[0],dimData)\n",
        "test_data = test_images.reshape(test_images.shape[0],dimData)\n",
        "\n",
        "#convert data to float and scale values between 0 and 1\n",
        "train_data = train_data.astype('float')\n",
        "test_data = test_data.astype('float')\n",
        "#scale data\n",
        "train_data /=255.0\n",
        "test_data /=255.0\n",
        "#change the labels frominteger to one-hot encoding\n",
        "train_labels_one_hot = to_categorical(train_labels)\n",
        "test_labels_one_hot = to_categorical(test_labels)\n",
        "\n",
        "#creating network\n",
        "model = Sequential()\n",
        "model.add(Dense(512, activation='relu', input_shape=(dimData,)))\n",
        "model.add(Dense(512, activation='relu'))\n",
        "\n",
        "#Added layers\n",
        "model.add(Dense(512, activation='tanh'))\n",
        "model.add(Dense(512, activation='relu'))\n",
        "\n",
        "model.add(Dense(10, activation='softmax'))\n",
        "\n",
        "model.compile(optimizer='rmsprop', loss='categorical_crossentropy', metrics=['accuracy'])\n",
        "history = model.fit(train_data, train_labels_one_hot, batch_size=256, epochs=20, verbose=1,\n",
        "                validation_data=(test_data, test_labels_one_hot))\n",
        "\n",
        "[test_loss, test_acc] = model.evaluate(test_data, test_labels_one_hot)\n",
        "print(\"Evaluation result on Test Data : Loss = {}, accuracy = {}\".format(test_loss, test_acc))\n",
        "\n",
        "\n",
        "\n",
        "# summarize history for accuracy\n",
        "N = 20\n",
        "#plt.style.use(\"ggplot\")\n",
        "plt.figure()\n",
        "plt.plot(np.arange(0, N), history.history[\"loss\"], label=\"train_loss\")\n",
        "plt.plot(np.arange(0, N), history.history[\"val_loss\"], label=\"val_loss\")\n",
        "plt.plot(np.arange(0, N), history.history[\"acc\"], label=\"train_acc\")\n",
        "plt.plot(np.arange(0, N), history.history[\"val_acc\"], label=\"val_acc\")\n",
        "plt.title(\"Training Loss and Accuracy on Dataset\")\n",
        "plt.xlabel(\"Epoch #\")\n",
        "plt.ylabel(\"Loss/Accuracy\")\n",
        "plt.legend(loc=\"lower left\")\n",
        "plt.savefig(\"plot.png\")"
      ],
      "execution_count": 22,
      "outputs": [
        {
          "output_type": "stream",
          "text": [
            "Train on 60000 samples, validate on 10000 samples\n",
            "Epoch 1/20\n",
            "60000/60000 [==============================] - 13s 214us/step - loss: 0.3256 - acc: 0.8967 - val_loss: 0.1729 - val_acc: 0.9501\n",
            "Epoch 2/20\n",
            "60000/60000 [==============================] - 12s 199us/step - loss: 0.1080 - acc: 0.9683 - val_loss: 0.1518 - val_acc: 0.9543\n",
            "Epoch 3/20\n",
            "60000/60000 [==============================] - 12s 198us/step - loss: 0.0692 - acc: 0.9787 - val_loss: 0.1102 - val_acc: 0.9685\n",
            "Epoch 4/20\n",
            "60000/60000 [==============================] - 12s 198us/step - loss: 0.0522 - acc: 0.9849 - val_loss: 0.0939 - val_acc: 0.9731\n",
            "Epoch 5/20\n",
            "60000/60000 [==============================] - 12s 203us/step - loss: 0.0391 - acc: 0.9886 - val_loss: 0.0950 - val_acc: 0.9776\n",
            "Epoch 6/20\n",
            "60000/60000 [==============================] - 12s 200us/step - loss: 0.0337 - acc: 0.9897 - val_loss: 0.0907 - val_acc: 0.9779\n",
            "Epoch 7/20\n",
            "60000/60000 [==============================] - 12s 197us/step - loss: 0.0275 - acc: 0.9921 - val_loss: 0.1173 - val_acc: 0.9775\n",
            "Epoch 8/20\n",
            "60000/60000 [==============================] - 12s 203us/step - loss: 0.0254 - acc: 0.9928 - val_loss: 0.1145 - val_acc: 0.9760\n",
            "Epoch 9/20\n",
            "60000/60000 [==============================] - 12s 207us/step - loss: 0.0228 - acc: 0.9936 - val_loss: 0.1113 - val_acc: 0.9793\n",
            "Epoch 10/20\n",
            "60000/60000 [==============================] - 12s 202us/step - loss: 0.0209 - acc: 0.9943 - val_loss: 0.1127 - val_acc: 0.9791\n",
            "Epoch 11/20\n",
            "60000/60000 [==============================] - 12s 200us/step - loss: 0.0187 - acc: 0.9950 - val_loss: 0.1327 - val_acc: 0.9782\n",
            "Epoch 12/20\n",
            "60000/60000 [==============================] - 12s 200us/step - loss: 0.0171 - acc: 0.9956 - val_loss: 0.1009 - val_acc: 0.9827\n",
            "Epoch 13/20\n",
            "60000/60000 [==============================] - 12s 200us/step - loss: 0.0149 - acc: 0.9961 - val_loss: 0.1505 - val_acc: 0.9776\n",
            "Epoch 14/20\n",
            "60000/60000 [==============================] - 12s 200us/step - loss: 0.0159 - acc: 0.9958 - val_loss: 0.1402 - val_acc: 0.9807\n",
            "Epoch 15/20\n",
            "60000/60000 [==============================] - 12s 202us/step - loss: 0.0166 - acc: 0.9958 - val_loss: 0.1255 - val_acc: 0.9808\n",
            "Epoch 16/20\n",
            "60000/60000 [==============================] - 12s 202us/step - loss: 0.0139 - acc: 0.9965 - val_loss: 0.1300 - val_acc: 0.9833\n",
            "Epoch 17/20\n",
            "60000/60000 [==============================] - 12s 199us/step - loss: 0.0143 - acc: 0.9968 - val_loss: 0.1494 - val_acc: 0.9789\n",
            "Epoch 18/20\n",
            "60000/60000 [==============================] - 12s 200us/step - loss: 0.0128 - acc: 0.9969 - val_loss: 0.1576 - val_acc: 0.9800\n",
            "Epoch 19/20\n",
            "60000/60000 [==============================] - 12s 199us/step - loss: 0.0141 - acc: 0.9968 - val_loss: 0.1571 - val_acc: 0.9792\n",
            "Epoch 20/20\n",
            "60000/60000 [==============================] - 12s 201us/step - loss: 0.0149 - acc: 0.9965 - val_loss: 0.1313 - val_acc: 0.9819\n",
            "10000/10000 [==============================] - 1s 126us/step\n",
            "Evaluation result on Test Data : Loss = 0.13132984218072516, accuracy = 0.9819\n"
          ],
          "name": "stdout"
        },
        {
          "output_type": "display_data",
          "data": {
            "image/png": "[encoded data removed]",
            "text/plain": [
              "<Figure size 432x288 with 1 Axes>"
            ]
          },
          "metadata": {
            "tags": []
          }
        }
      ]
    },
    {
      "cell_type": "code",
      "metadata": {
        "id": "7lJO1e9uxOVA",
        "colab_type": "code",
        "colab": {
          "base_uri": "https://localhost:8080/",
          "height": 1000
        },
        "outputId": "502a20f4-de08-4790-d665-5664adac2d89"
      },
      "source": [
        "from keras import Sequential\n",
        "from keras.datasets import mnist\n",
        "import numpy as np\n",
        "import matplotlib.pyplot as plt\n",
        "from keras.layers import Dense\n",
        "from keras.utils import to_categorical\n",
        "\n",
        "(train_images,train_labels),(test_images, test_labels) = mnist.load_data()\n",
        "#display the first image in the training data\n",
        "plt.imshow(train_images[0,:,:],cmap='gray')\n",
        "plt.title('Ground Truth : {}'.format(train_labels[0]))\n",
        "# plt.show()\n",
        "\n",
        "#process the data\n",
        "#1. convert each image of shape 28*28 to 784 dimensional which will be fed to the network as a single feature\n",
        "dimData = np.prod(train_images.shape[1:])\n",
        "train_data = train_images.reshape(train_images.shape[0],dimData)\n",
        "test_data = test_images.reshape(test_images.shape[0],dimData)\n",
        "\n",
        "#convert data to float and scale values between 0 and 1\n",
        "train_data = train_data.astype('float')\n",
        "test_data = test_data.astype('float')\n",
        "#scale data\n",
        "train_data /=255.0\n",
        "test_data /=255.0\n",
        "#change the labels frominteger to one-hot encoding\n",
        "train_labels_one_hot = to_categorical(train_labels)\n",
        "test_labels_one_hot = to_categorical(test_labels)\n",
        "\n",
        "#creating network\n",
        "model = Sequential()\n",
        "model.add(Dense(512, activation='relu', input_shape=(dimData,)))\n",
        "model.add(Dense(512, activation='relu'))\n",
        "model.add(Dense(10, activation='softmax'))\n",
        "\n",
        "model.compile(optimizer='rmsprop', loss='categorical_crossentropy', metrics=['accuracy'])\n",
        "history = model.fit(train_data, train_labels_one_hot, batch_size=256, epochs=20, verbose=1,\n",
        "                   validation_data=(test_data, test_labels_one_hot))\n",
        "\n",
        "[test_loss, test_acc] = model.evaluate(test_data, test_labels_one_hot)\n",
        "print(\"Evaluation result on Test Data : Loss = {}, accuracy = {}\".format(test_loss, test_acc))"
      ],
      "execution_count": 23,
      "outputs": [
        {
          "output_type": "stream",
          "text": [
            "Train on 60000 samples, validate on 10000 samples\n",
            "Epoch 1/20\n",
            "60000/60000 [==============================] - 8s 133us/step - loss: 0.2662 - acc: 0.9179 - val_loss: 0.1414 - val_acc: 0.9539\n",
            "Epoch 2/20\n",
            "60000/60000 [==============================] - 7s 119us/step - loss: 0.0932 - acc: 0.9710 - val_loss: 0.0933 - val_acc: 0.9710\n",
            "Epoch 3/20\n",
            "60000/60000 [==============================] - 7s 120us/step - loss: 0.0577 - acc: 0.9819 - val_loss: 0.0896 - val_acc: 0.9713\n",
            "Epoch 4/20\n",
            "60000/60000 [==============================] - 7s 120us/step - loss: 0.0397 - acc: 0.9872 - val_loss: 0.0793 - val_acc: 0.9759\n",
            "Epoch 5/20\n",
            "60000/60000 [==============================] - 7s 121us/step - loss: 0.0276 - acc: 0.9912 - val_loss: 0.1150 - val_acc: 0.9688\n",
            "Epoch 6/20\n",
            "60000/60000 [==============================] - 7s 120us/step - loss: 0.0213 - acc: 0.9931 - val_loss: 0.1270 - val_acc: 0.9641\n",
            "Epoch 7/20\n",
            "60000/60000 [==============================] - 7s 120us/step - loss: 0.0163 - acc: 0.9950 - val_loss: 0.0880 - val_acc: 0.9794\n",
            "Epoch 8/20\n",
            "60000/60000 [==============================] - 7s 121us/step - loss: 0.0132 - acc: 0.9957 - val_loss: 0.0968 - val_acc: 0.9782\n",
            "Epoch 9/20\n",
            "60000/60000 [==============================] - 7s 122us/step - loss: 0.0111 - acc: 0.9964 - val_loss: 0.0952 - val_acc: 0.9814\n",
            "Epoch 10/20\n",
            "60000/60000 [==============================] - 7s 123us/step - loss: 0.0100 - acc: 0.9968 - val_loss: 0.0957 - val_acc: 0.9812\n",
            "Epoch 11/20\n",
            "60000/60000 [==============================] - 7s 120us/step - loss: 0.0073 - acc: 0.9978 - val_loss: 0.0855 - val_acc: 0.9830\n",
            "Epoch 12/20\n",
            "60000/60000 [==============================] - 7s 119us/step - loss: 0.0077 - acc: 0.9976 - val_loss: 0.0969 - val_acc: 0.9827\n",
            "Epoch 13/20\n",
            "60000/60000 [==============================] - 7s 119us/step - loss: 0.0069 - acc: 0.9979 - val_loss: 0.1036 - val_acc: 0.9811\n",
            "Epoch 14/20\n",
            "60000/60000 [==============================] - 7s 120us/step - loss: 0.0062 - acc: 0.9983 - val_loss: 0.1042 - val_acc: 0.9820\n",
            "Epoch 15/20\n",
            "60000/60000 [==============================] - 7s 121us/step - loss: 0.0055 - acc: 0.9984 - val_loss: 0.1170 - val_acc: 0.9817\n",
            "Epoch 16/20\n",
            "60000/60000 [==============================] - 7s 122us/step - loss: 0.0049 - acc: 0.9985 - val_loss: 0.1042 - val_acc: 0.9847\n",
            "Epoch 17/20\n",
            "60000/60000 [==============================] - 7s 121us/step - loss: 0.0042 - acc: 0.9986 - val_loss: 0.1278 - val_acc: 0.9805\n",
            "Epoch 18/20\n",
            "60000/60000 [==============================] - 7s 123us/step - loss: 0.0040 - acc: 0.9988 - val_loss: 0.1169 - val_acc: 0.9824\n",
            "Epoch 19/20\n",
            "60000/60000 [==============================] - 7s 121us/step - loss: 0.0049 - acc: 0.9985 - val_loss: 0.1408 - val_acc: 0.9806\n",
            "Epoch 20/20\n",
            "60000/60000 [==============================] - 7s 120us/step - loss: 0.0036 - acc: 0.9990 - val_loss: 0.1378 - val_acc: 0.9829\n",
            "10000/10000 [==============================] - 1s 77us/step\n",
            "Evaluation result on Test Data : Loss = 0.13775558090703252, accuracy = 0.9829\n"
          ],
          "name": "stdout"
        },
        {
          "output_type": "display_data",
          "data": {
            "image/png": "[encoded data removed]",
            "text/plain": [
              "<Figure size 432x288 with 1 Axes>"
            ]
          },
          "metadata": {
            "tags": []
          }
        }
      ]
    },
    {
      "cell_type": "code",
      "metadata": {
        "id": "DRmt6LJoyFgP",
        "colab_type": "code",
        "colab": {
          "base_uri": "https://localhost:8080/",
          "height": 1000
        },
        "outputId": "c95ca105-ec53-4caf-e2c1-cc581b43f9f4"
      },
      "source": [
        "from keras import Sequential\n",
        "from keras.datasets import mnist\n",
        "import numpy as np\n",
        "import matplotlib.pyplot as plt\n",
        "from keras.layers import Dense\n",
        "from keras.utils import to_categorical\n",
        "\n",
        "(train_images,train_labels),(test_images, test_labels) = mnist.load_data()\n",
        "#display the first image in the training data\n",
        "plt.imshow(train_images[0,:,:],cmap='gray')\n",
        "plt.title('Ground Truth : {}'.format(train_labels[0]))\n",
        "# plt.show()\n",
        "\n",
        "#process the data\n",
        "#1. convert each image of shape 28*28 to 784 dimensional which will be fed to the network as a single feature\n",
        "dimData = np.prod(train_images.shape[1:])\n",
        "train_data = train_images.reshape(train_images.shape[0],dimData)\n",
        "test_data = test_images.reshape(test_images.shape[0],dimData)\n",
        "\n",
        "#convert data to float and scale values between 0 and 1\n",
        "train_data = train_data.astype('float')\n",
        "test_data = test_data.astype('float')\n",
        "#scale data\n",
        "train_data /=255.0\n",
        "test_data /=255.0\n",
        "#change the labels frominteger to one-hot encoding\n",
        "train_labels_one_hot = to_categorical(train_labels)\n",
        "test_labels_one_hot = to_categorical(test_labels)\n",
        "\n",
        "#creating network\n",
        "model = Sequential()\n",
        "model.add(Dense(500, activation='tanh', input_shape=(dimData,)))\n",
        "model.add(Dense(500, activation='tanh'))\n",
        "model.add(Dense(500, activation='tanh'))\n",
        "model.add(Dense(10, activation='softmax'))\n",
        "\n",
        "model.compile(optimizer='rmsprop', loss='categorical_crossentropy', metrics=['accuracy'])\n",
        "history = model.fit(train_data, train_labels_one_hot, batch_size=256, epochs=20, verbose=1,\n",
        "                   validation_data=(test_data, test_labels_one_hot))\n",
        "\n",
        "[test_loss, test_acc] = model.evaluate(test_data, test_labels_one_hot)\n",
        "print(\"Evaluation result on Test Data : Loss = {}, accuracy = {}\".format(test_loss, test_acc))"
      ],
      "execution_count": 24,
      "outputs": [
        {
          "output_type": "stream",
          "text": [
            "Train on 60000 samples, validate on 10000 samples\n",
            "Epoch 1/20\n",
            "60000/60000 [==============================] - 11s 179us/step - loss: 0.3982 - acc: 0.8790 - val_loss: 0.2256 - val_acc: 0.9275\n",
            "Epoch 2/20\n",
            "60000/60000 [==============================] - 10s 167us/step - loss: 0.1529 - acc: 0.9532 - val_loss: 0.1297 - val_acc: 0.9610\n",
            "Epoch 3/20\n",
            "60000/60000 [==============================] - 10s 165us/step - loss: 0.0980 - acc: 0.9688 - val_loss: 0.1001 - val_acc: 0.9665\n",
            "Epoch 4/20\n",
            "60000/60000 [==============================] - 10s 166us/step - loss: 0.0686 - acc: 0.9784 - val_loss: 0.1404 - val_acc: 0.9581\n",
            "Epoch 5/20\n",
            "60000/60000 [==============================] - 10s 166us/step - loss: 0.0512 - acc: 0.9835 - val_loss: 0.0845 - val_acc: 0.9741\n",
            "Epoch 6/20\n",
            "60000/60000 [==============================] - 10s 163us/step - loss: 0.0377 - acc: 0.9877 - val_loss: 0.0830 - val_acc: 0.9738\n",
            "Epoch 7/20\n",
            "60000/60000 [==============================] - 10s 167us/step - loss: 0.0269 - acc: 0.9919 - val_loss: 0.0902 - val_acc: 0.9728\n",
            "Epoch 8/20\n",
            "60000/60000 [==============================] - 10s 166us/step - loss: 0.0203 - acc: 0.9938 - val_loss: 0.1001 - val_acc: 0.9696\n",
            "Epoch 9/20\n",
            "60000/60000 [==============================] - 10s 167us/step - loss: 0.0156 - acc: 0.9950 - val_loss: 0.0707 - val_acc: 0.9810\n",
            "Epoch 10/20\n",
            "60000/60000 [==============================] - 10s 162us/step - loss: 0.0116 - acc: 0.9967 - val_loss: 0.0717 - val_acc: 0.9798\n",
            "Epoch 11/20\n",
            "60000/60000 [==============================] - 10s 162us/step - loss: 0.0101 - acc: 0.9970 - val_loss: 0.0758 - val_acc: 0.9796\n",
            "Epoch 12/20\n",
            "60000/60000 [==============================] - 10s 162us/step - loss: 0.0080 - acc: 0.9976 - val_loss: 0.0780 - val_acc: 0.9796\n",
            "Epoch 13/20\n",
            "60000/60000 [==============================] - 10s 164us/step - loss: 0.0063 - acc: 0.9981 - val_loss: 0.0729 - val_acc: 0.9816\n",
            "Epoch 14/20\n",
            "60000/60000 [==============================] - 10s 168us/step - loss: 0.0056 - acc: 0.9984 - val_loss: 0.0750 - val_acc: 0.9815\n",
            "Epoch 15/20\n",
            "60000/60000 [==============================] - 10s 165us/step - loss: 0.0044 - acc: 0.9987 - val_loss: 0.1000 - val_acc: 0.9765\n",
            "Epoch 16/20\n",
            "60000/60000 [==============================] - 10s 163us/step - loss: 0.0040 - acc: 0.9987 - val_loss: 0.0760 - val_acc: 0.9818\n",
            "Epoch 17/20\n",
            "60000/60000 [==============================] - 10s 164us/step - loss: 0.0036 - acc: 0.9990 - val_loss: 0.0906 - val_acc: 0.9769\n",
            "Epoch 18/20\n",
            "60000/60000 [==============================] - 10s 165us/step - loss: 0.0035 - acc: 0.9990 - val_loss: 0.1182 - val_acc: 0.9711\n",
            "Epoch 19/20\n",
            "60000/60000 [==============================] - 10s 166us/step - loss: 0.0031 - acc: 0.9991 - val_loss: 0.0919 - val_acc: 0.9810\n",
            "Epoch 20/20\n",
            "60000/60000 [==============================] - 10s 165us/step - loss: 0.0035 - acc: 0.9989 - val_loss: 0.0974 - val_acc: 0.9796\n",
            "10000/10000 [==============================] - 1s 123us/step\n",
            "Evaluation result on Test Data : Loss = 0.0974290132684162, accuracy = 0.9796\n"
          ],
          "name": "stdout"
        },
        {
          "output_type": "display_data",
          "data": {
            "image/png": "[encoded data removed]",
            "text/plain": [
              "<Figure size 432x288 with 1 Axes>"
            ]
          },
          "metadata": {
            "tags": []
          }
        }
      ]
    },
    {
      "cell_type": "code",
      "metadata": {
        "id": "q7gZpJaFydlG",
        "colab_type": "code",
        "colab": {
          "base_uri": "https://localhost:8080/",
          "height": 1000
        },
        "outputId": "fb53210e-4134-4eab-9fb2-68425dbf547f"
      },
      "source": [
        "from keras import Sequential\n",
        "from keras.datasets import mnist\n",
        "import numpy as np\n",
        "import matplotlib.pyplot as plt\n",
        "from keras.layers import Dense\n",
        "from keras.utils import to_categorical\n",
        "\n",
        "(train_images,train_labels),(test_images, test_labels) = mnist.load_data()\n",
        "#display the first image in the training data\n",
        "plt.imshow(train_images[0,:,:],cmap='gray')\n",
        "plt.title('Ground Truth : {}'.format(train_labels[0]))\n",
        "# plt.show()\n",
        "\n",
        "#process the data\n",
        "#1. convert each image of shape 28*28 to 784 dimensional which will be fed to the network as a single feature\n",
        "dimData = np.prod(train_images.shape[1:])\n",
        "train_data = train_images.reshape(train_images.shape[0],dimData)\n",
        "test_data = test_images.reshape(test_images.shape[0],dimData)\n",
        "\n",
        "#convert data to float and scale values between 0 and 1\n",
        "train_data = train_data.astype('float')\n",
        "test_data = test_data.astype('float')\n",
        "#scale data\n",
        "#train_data /=255.0\n",
        "#test_data /=255.0\n",
        "#change the labels frominteger to one-hot encoding\n",
        "train_labels_one_hot = to_categorical(train_labels)\n",
        "test_labels_one_hot = to_categorical(test_labels)\n",
        "\n",
        "#creating network\n",
        "model = Sequential()\n",
        "model.add(Dense(500, activation='tanh', input_shape=(dimData,)))\n",
        "model.add(Dense(500, activation='tanh'))\n",
        "model.add(Dense(500, activation='tanh'))\n",
        "model.add(Dense(10, activation='softmax'))\n",
        "\n",
        "model.compile(optimizer='rmsprop', loss='categorical_crossentropy', metrics=['accuracy'])\n",
        "history = model.fit(train_data, train_labels_one_hot, batch_size=256, epochs=20, verbose=1,\n",
        "                   validation_data=(test_data, test_labels_one_hot))\n",
        "\n",
        "[test_loss, test_acc] = model.evaluate(test_data, test_labels_one_hot)\n",
        "print(\"Evaluation result on Test Data : Loss = {}, accuracy = {}\".format(test_loss, test_acc))"
      ],
      "execution_count": 25,
      "outputs": [
        {
          "output_type": "stream",
          "text": [
            "Train on 60000 samples, validate on 10000 samples\n",
            "Epoch 1/20\n",
            "60000/60000 [==============================] - 11s 177us/step - loss: 0.4416 - acc: 0.8643 - val_loss: 0.2226 - val_acc: 0.9314\n",
            "Epoch 2/20\n",
            "60000/60000 [==============================] - 10s 159us/step - loss: 0.2051 - acc: 0.9368 - val_loss: 0.1650 - val_acc: 0.9488\n",
            "Epoch 3/20\n",
            "60000/60000 [==============================] - 10s 162us/step - loss: 0.1478 - acc: 0.9534 - val_loss: 0.1931 - val_acc: 0.9372\n",
            "Epoch 4/20\n",
            "60000/60000 [==============================] - 10s 161us/step - loss: 0.1217 - acc: 0.9616 - val_loss: 0.1372 - val_acc: 0.9568\n",
            "Epoch 5/20\n",
            "60000/60000 [==============================] - 9s 158us/step - loss: 0.1059 - acc: 0.9663 - val_loss: 0.1158 - val_acc: 0.9645\n",
            "Epoch 6/20\n",
            "60000/60000 [==============================] - 9s 158us/step - loss: 0.0923 - acc: 0.9701 - val_loss: 0.1137 - val_acc: 0.9652\n",
            "Epoch 7/20\n",
            "60000/60000 [==============================] - 9s 158us/step - loss: 0.0829 - acc: 0.9731 - val_loss: 0.1092 - val_acc: 0.9642\n",
            "Epoch 8/20\n",
            "60000/60000 [==============================] - 10s 159us/step - loss: 0.0754 - acc: 0.9758 - val_loss: 0.1008 - val_acc: 0.9682\n",
            "Epoch 9/20\n",
            "60000/60000 [==============================] - 10s 159us/step - loss: 0.0698 - acc: 0.9769 - val_loss: 0.1141 - val_acc: 0.9663\n",
            "Epoch 10/20\n",
            "60000/60000 [==============================] - 9s 157us/step - loss: 0.0671 - acc: 0.9782 - val_loss: 0.1076 - val_acc: 0.9668\n",
            "Epoch 11/20\n",
            "60000/60000 [==============================] - 9s 157us/step - loss: 0.0630 - acc: 0.9800 - val_loss: 0.1297 - val_acc: 0.9575\n",
            "Epoch 12/20\n",
            "60000/60000 [==============================] - 9s 157us/step - loss: 0.0549 - acc: 0.9822 - val_loss: 0.0961 - val_acc: 0.9714\n",
            "Epoch 13/20\n",
            "60000/60000 [==============================] - 9s 157us/step - loss: 0.0538 - acc: 0.9824 - val_loss: 0.0992 - val_acc: 0.9709\n",
            "Epoch 14/20\n",
            "60000/60000 [==============================] - 9s 158us/step - loss: 0.0484 - acc: 0.9840 - val_loss: 0.1056 - val_acc: 0.9687\n",
            "Epoch 15/20\n",
            "60000/60000 [==============================] - 10s 168us/step - loss: 0.0490 - acc: 0.9846 - val_loss: 0.1136 - val_acc: 0.9662\n",
            "Epoch 16/20\n",
            "60000/60000 [==============================] - 10s 168us/step - loss: 0.0469 - acc: 0.9847 - val_loss: 0.1057 - val_acc: 0.9669\n",
            "Epoch 17/20\n",
            "60000/60000 [==============================] - 10s 172us/step - loss: 0.0441 - acc: 0.9854 - val_loss: 0.0919 - val_acc: 0.9734\n",
            "Epoch 18/20\n",
            "60000/60000 [==============================] - 10s 159us/step - loss: 0.0420 - acc: 0.9860 - val_loss: 0.0955 - val_acc: 0.9708\n",
            "Epoch 19/20\n",
            "60000/60000 [==============================] - 11s 181us/step - loss: 0.0402 - acc: 0.9864 - val_loss: 0.0953 - val_acc: 0.9706\n",
            "Epoch 20/20\n",
            "60000/60000 [==============================] - 10s 174us/step - loss: 0.0391 - acc: 0.9870 - val_loss: 0.0941 - val_acc: 0.9736\n",
            "10000/10000 [==============================] - 1s 110us/step\n",
            "Evaluation result on Test Data : Loss = 0.09406390758925118, accuracy = 0.9736\n"
          ],
          "name": "stdout"
        },
        {
          "output_type": "display_data",
          "data": {
            "image/png": "[encoded data removed]",
            "text/plain": [
              "<Figure size 432x288 with 1 Axes>"
            ]
          },
          "metadata": {
            "tags": []
          }
        }
      ]
    }
  ]
}